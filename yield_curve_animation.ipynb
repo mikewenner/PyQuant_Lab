{
 "cells": [
  {
   "cell_type": "code",
   "execution_count": 8,
   "id": "ccf3ce53-1983-4c5d-aaff-0f754364ecc7",
   "metadata": {},
   "outputs": [],
   "source": [
    "%matplotlib notebook   #interactive plot (like hvplot)\n",
    "\n",
    "import numpy as np\n",
    "import matplotlib.pyplot as plt   #makes matplotlib work like MATLAB\n",
    "import matplotlib.animation as animation   #animates by calling a function over and over\n",
    "\n",
    "from openbb_terminal.sdk import openbb"
   ]
  },
  {
   "cell_type": "code",
   "execution_count": 9,
   "id": "4a6c80cc-eba1-4896-9532-76342b0f311e",
   "metadata": {},
   "outputs": [
    {
     "data": {
      "text/plain": [
       "True"
      ]
     },
     "execution_count": 9,
     "metadata": {},
     "output_type": "execute_result"
    }
   ],
   "source": [
    "# imports for the API key retrevial\n",
    "import requests\n",
    "from dotenv import load_dotenv\n",
    "import os \n",
    "\n",
    "# Load .env enviroment variables\n",
    "from dotenv import load_dotenv\n",
    "load_dotenv()"
   ]
  },
  {
   "cell_type": "code",
   "execution_count": 10,
   "id": "096466cb-5e24-491c-9bd5-64cc5992df5e",
   "metadata": {},
   "outputs": [
    {
     "data": {
      "text/plain": [
       "str"
      ]
     },
     "execution_count": 10,
     "metadata": {},
     "output_type": "execute_result"
    }
   ],
   "source": [
    "# Use the os.getenv function to retrieve the environment variable named FRED_API_KEY\n",
    "# Store as a Python variable named api_key\n",
    "api_key = os.getenv(\"FRED_API_KEY\")\n",
    "type(api_key)"
   ]
  },
  {
   "cell_type": "code",
   "execution_count": 11,
   "id": "58fedfd4-4a92-48c2-bcc7-e66dc3e77f47",
   "metadata": {},
   "outputs": [
    {
     "data": {
      "text/plain": [
       "'defined, test passed'"
      ]
     },
     "execution_count": 11,
     "metadata": {},
     "output_type": "execute_result"
    }
   ],
   "source": [
    "# test that key works \n",
    "openbb.keys.fred(\n",
    "    key = api_key,\n",
    "    persist=True\n",
    "\n",
    ")"
   ]
  },
  {
   "cell_type": "code",
   "execution_count": 12,
   "id": "9e27ee1b-61d6-4990-948d-aa8691ea00de",
   "metadata": {},
   "outputs": [
    {
     "data": {
      "text/html": [
       "<div>\n",
       "<style scoped>\n",
       "    .dataframe tbody tr th:only-of-type {\n",
       "        vertical-align: middle;\n",
       "    }\n",
       "\n",
       "    .dataframe tbody tr th {\n",
       "        vertical-align: top;\n",
       "    }\n",
       "\n",
       "    .dataframe thead th {\n",
       "        text-align: right;\n",
       "    }\n",
       "</style>\n",
       "<table border=\"1\" class=\"dataframe\">\n",
       "  <thead>\n",
       "    <tr style=\"text-align: right;\">\n",
       "      <th></th>\n",
       "      <th>Nominal_10-year</th>\n",
       "    </tr>\n",
       "    <tr>\n",
       "      <th>TIME_PERIOD</th>\n",
       "      <th></th>\n",
       "    </tr>\n",
       "  </thead>\n",
       "  <tbody>\n",
       "    <tr>\n",
       "      <th>1985-01-01</th>\n",
       "      <td>11.38</td>\n",
       "    </tr>\n",
       "    <tr>\n",
       "      <th>1985-02-01</th>\n",
       "      <td>11.51</td>\n",
       "    </tr>\n",
       "    <tr>\n",
       "      <th>1985-03-01</th>\n",
       "      <td>11.86</td>\n",
       "    </tr>\n",
       "    <tr>\n",
       "      <th>1985-04-01</th>\n",
       "      <td>11.43</td>\n",
       "    </tr>\n",
       "    <tr>\n",
       "      <th>1985-05-01</th>\n",
       "      <td>10.85</td>\n",
       "    </tr>\n",
       "  </tbody>\n",
       "</table>\n",
       "</div>"
      ],
      "text/plain": [
       "             Nominal_10-year\n",
       "TIME_PERIOD                 \n",
       "1985-01-01             11.38\n",
       "1985-02-01             11.51\n",
       "1985-03-01             11.86\n",
       "1985-04-01             11.43\n",
       "1985-05-01             10.85"
      ]
     },
     "execution_count": 12,
     "metadata": {},
     "output_type": "execute_result"
    }
   ],
   "source": [
    "# Pull bond data --> note the default returns just the 10yr\n",
    "data_look = openbb.economy.treasury(\n",
    "    instruments=[\"nominal\"],\n",
    "    start_date=\"1985-01-01\"\n",
    ")\n",
    "data_look.head()"
   ]
  },
  {
   "cell_type": "code",
   "execution_count": 13,
   "id": "dad51ae6-5fed-47f3-ac83-3cf34c732088",
   "metadata": {},
   "outputs": [
    {
     "data": {
      "text/html": [
       "<div>\n",
       "<style scoped>\n",
       "    .dataframe tbody tr th:only-of-type {\n",
       "        vertical-align: middle;\n",
       "    }\n",
       "\n",
       "    .dataframe tbody tr th {\n",
       "        vertical-align: top;\n",
       "    }\n",
       "\n",
       "    .dataframe thead th {\n",
       "        text-align: right;\n",
       "    }\n",
       "</style>\n",
       "<table border=\"1\" class=\"dataframe\">\n",
       "  <thead>\n",
       "    <tr style=\"text-align: right;\">\n",
       "      <th></th>\n",
       "      <th>Nominal_3-month</th>\n",
       "      <th>Nominal_6-month</th>\n",
       "      <th>Nominal_1-year</th>\n",
       "      <th>Nominal_2-year</th>\n",
       "      <th>Nominal_3-year</th>\n",
       "      <th>Nominal_5-year</th>\n",
       "      <th>Nominal_7-year</th>\n",
       "      <th>Nominal_10-year</th>\n",
       "      <th>Nominal_30-year</th>\n",
       "    </tr>\n",
       "    <tr>\n",
       "      <th>TIME_PERIOD</th>\n",
       "      <th></th>\n",
       "      <th></th>\n",
       "      <th></th>\n",
       "      <th></th>\n",
       "      <th></th>\n",
       "      <th></th>\n",
       "      <th></th>\n",
       "      <th></th>\n",
       "      <th></th>\n",
       "    </tr>\n",
       "  </thead>\n",
       "  <tbody>\n",
       "    <tr>\n",
       "      <th>1985-01-01</th>\n",
       "      <td>8.02</td>\n",
       "      <td>8.45</td>\n",
       "      <td>9.02</td>\n",
       "      <td>9.93</td>\n",
       "      <td>10.43</td>\n",
       "      <td>10.93</td>\n",
       "      <td>11.27</td>\n",
       "      <td>11.38</td>\n",
       "      <td>11.45</td>\n",
       "    </tr>\n",
       "    <tr>\n",
       "      <th>1985-02-01</th>\n",
       "      <td>8.56</td>\n",
       "      <td>8.87</td>\n",
       "      <td>9.29</td>\n",
       "      <td>10.17</td>\n",
       "      <td>10.55</td>\n",
       "      <td>11.13</td>\n",
       "      <td>11.44</td>\n",
       "      <td>11.51</td>\n",
       "      <td>11.47</td>\n",
       "    </tr>\n",
       "    <tr>\n",
       "      <th>1985-03-01</th>\n",
       "      <td>8.83</td>\n",
       "      <td>9.45</td>\n",
       "      <td>9.86</td>\n",
       "      <td>10.71</td>\n",
       "      <td>11.05</td>\n",
       "      <td>11.52</td>\n",
       "      <td>11.82</td>\n",
       "      <td>11.86</td>\n",
       "      <td>11.81</td>\n",
       "    </tr>\n",
       "    <tr>\n",
       "      <th>1985-04-01</th>\n",
       "      <td>8.22</td>\n",
       "      <td>8.71</td>\n",
       "      <td>9.14</td>\n",
       "      <td>10.09</td>\n",
       "      <td>10.49</td>\n",
       "      <td>11.01</td>\n",
       "      <td>11.34</td>\n",
       "      <td>11.43</td>\n",
       "      <td>11.47</td>\n",
       "    </tr>\n",
       "    <tr>\n",
       "      <th>1985-05-01</th>\n",
       "      <td>7.73</td>\n",
       "      <td>8.07</td>\n",
       "      <td>8.46</td>\n",
       "      <td>9.39</td>\n",
       "      <td>9.75</td>\n",
       "      <td>10.34</td>\n",
       "      <td>10.72</td>\n",
       "      <td>10.85</td>\n",
       "      <td>11.05</td>\n",
       "    </tr>\n",
       "  </tbody>\n",
       "</table>\n",
       "</div>"
      ],
      "text/plain": [
       "             Nominal_3-month  Nominal_6-month  Nominal_1-year  Nominal_2-year  \\\n",
       "TIME_PERIOD                                                                     \n",
       "1985-01-01              8.02             8.45            9.02            9.93   \n",
       "1985-02-01              8.56             8.87            9.29           10.17   \n",
       "1985-03-01              8.83             9.45            9.86           10.71   \n",
       "1985-04-01              8.22             8.71            9.14           10.09   \n",
       "1985-05-01              7.73             8.07            8.46            9.39   \n",
       "\n",
       "             Nominal_3-year  Nominal_5-year  Nominal_7-year  Nominal_10-year  \\\n",
       "TIME_PERIOD                                                                    \n",
       "1985-01-01            10.43           10.93           11.27            11.38   \n",
       "1985-02-01            10.55           11.13           11.44            11.51   \n",
       "1985-03-01            11.05           11.52           11.82            11.86   \n",
       "1985-04-01            10.49           11.01           11.34            11.43   \n",
       "1985-05-01             9.75           10.34           10.72            10.85   \n",
       "\n",
       "             Nominal_30-year  \n",
       "TIME_PERIOD                   \n",
       "1985-01-01             11.45  \n",
       "1985-02-01             11.47  \n",
       "1985-03-01             11.81  \n",
       "1985-04-01             11.47  \n",
       "1985-05-01             11.05  "
      ]
     },
     "execution_count": 13,
     "metadata": {},
     "output_type": "execute_result"
    }
   ],
   "source": [
    "# Define the maturities that want to pull\n",
    "maturities = ['3m', '6m', '1y', '2y', '3y', '5y', '7y', '10y', '30y']\n",
    "\n",
    "#Now pull all maturities of interst --> using maturities parm as list maturities\n",
    "data = openbb.economy.treasury(\n",
    "    instruments=[\"nominal\"],\n",
    "    maturities=maturities,\n",
    "    start_date=\"1985-01-01\"\n",
    ")\n",
    "\n",
    "data.head()"
   ]
  },
  {
   "cell_type": "code",
   "execution_count": null,
   "id": "6dda6ccd-e695-4a42-a60a-8a574a470e91",
   "metadata": {},
   "outputs": [],
   "source": []
  }
 ],
 "metadata": {
  "kernelspec": {
   "display_name": "Python 3 (ipykernel)",
   "language": "python",
   "name": "python3"
  },
  "language_info": {
   "codemirror_mode": {
    "name": "ipython",
    "version": 3
   },
   "file_extension": ".py",
   "mimetype": "text/x-python",
   "name": "python",
   "nbconvert_exporter": "python",
   "pygments_lexer": "ipython3",
   "version": "3.9.13"
  }
 },
 "nbformat": 4,
 "nbformat_minor": 5
}
