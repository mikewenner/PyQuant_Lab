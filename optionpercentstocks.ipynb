{
 "cells": [
  {
   "cell_type": "code",
   "execution_count": 32,
   "id": "babddfd7",
   "metadata": {},
   "outputs": [],
   "source": [
    "from openbb_terminal.sdk import openbb\n",
    "import pandas as pd\n",
    "import numpy as np\n",
    "import datetime as dt"
   ]
  },
  {
   "cell_type": "code",
   "execution_count": 33,
   "id": "08d220be",
   "metadata": {},
   "outputs": [],
   "source": [
    "# enter stock symbol and option expiration date\n",
    "stock_symbol = 'GOOG'\n",
    "option_expiration_date = '2023-04-14'"
   ]
  },
  {
   "cell_type": "code",
   "execution_count": 34,
   "id": "b5a9964f",
   "metadata": {},
   "outputs": [],
   "source": [
    "# using top of book to get stock spot price by averaging top bid and ask\n",
    "bid,ask = openbb.stocks.tob(stock_symbol)\n",
    "quote_tob = bid.join(ask, lsuffix= ': Bid', rsuffix = ': Ask')\n",
    "spot_price_df = pd.DataFrame(quote_tob)\n",
    "spot_price = round((spot_price_df.loc[0][1] + spot_price_df.loc[0][3]) / 2,2)"
   ]
  },
  {
   "cell_type": "code",
   "execution_count": 35,
   "id": "39c1f3f1",
   "metadata": {},
   "outputs": [],
   "source": [
    "# pulling option chain\n",
    "option_chain = openbb.stocks.options.chains(symbol = stock_symbol, expiration = option_expiration_date)\n",
    "option_chain_df = pd.DataFrame(option_chain)"
   ]
  },
  {
   "cell_type": "code",
   "execution_count": 36,
   "id": "280cdb8f",
   "metadata": {},
   "outputs": [],
   "source": [
    "# narrowing option chain to puts out of the money with a bid\n",
    "put_options = option_chain_df[(option_chain_df[\"optionType\"] == 'put')]\n",
    "option_put_df = pd.DataFrame(put_options)\n",
    "otm_puts = option_put_df[(option_put_df[\"strike\"] < spot_price)]\n",
    "otm_puts_df = pd.DataFrame(otm_puts)\n",
    "bidded_puts = otm_puts_df[(otm_puts_df[\"bid\"] > 0)]\n",
    "bidded_puts_df = pd.DataFrame(bidded_puts)"
   ]
  },
  {
   "cell_type": "code",
   "execution_count": 37,
   "id": "be9bc225",
   "metadata": {},
   "outputs": [],
   "source": [
    "# adding option price by averaging the bid and ask\n",
    "bidded_puts_df.loc[:, [\"optionPrice\"]] = round((bidded_puts_df[\"bid\"] + bidded_puts_df[\"ask\"]) / 2,2)"
   ]
  },
  {
   "cell_type": "code",
   "execution_count": 38,
   "id": "92503879",
   "metadata": {},
   "outputs": [],
   "source": [
    "# adding the spot price\n",
    "bidded_puts_df.loc[:, [\"spotPrice\"]] = spot_price"
   ]
  },
  {
   "cell_type": "code",
   "execution_count": 52,
   "id": "3a44f575",
   "metadata": {},
   "outputs": [],
   "source": [
    "# calculating the option price as a percentage of the spot price\n",
    "bidded_puts_df.loc[:, [\"optionPercent\"]] = round(bidded_puts_df[\"optionPrice\"] / bidded_puts_df[\"spotPrice\"],3)"
   ]
  },
  {
   "cell_type": "code",
   "execution_count": 53,
   "id": "e9fbe27b",
   "metadata": {},
   "outputs": [
    {
     "data": {
      "text/html": [
       "<div>\n",
       "<style scoped>\n",
       "    .dataframe tbody tr th:only-of-type {\n",
       "        vertical-align: middle;\n",
       "    }\n",
       "\n",
       "    .dataframe tbody tr th {\n",
       "        vertical-align: top;\n",
       "    }\n",
       "\n",
       "    .dataframe thead th {\n",
       "        text-align: right;\n",
       "    }\n",
       "</style>\n",
       "<table border=\"1\" class=\"dataframe\">\n",
       "  <thead>\n",
       "    <tr style=\"text-align: right;\">\n",
       "      <th></th>\n",
       "      <th>optionType</th>\n",
       "      <th>expiration</th>\n",
       "      <th>strike</th>\n",
       "      <th>lastPrice</th>\n",
       "      <th>bid</th>\n",
       "      <th>ask</th>\n",
       "      <th>openInterest</th>\n",
       "      <th>volume</th>\n",
       "      <th>optionPrice</th>\n",
       "      <th>spotPrice</th>\n",
       "      <th>optionPercent</th>\n",
       "    </tr>\n",
       "  </thead>\n",
       "  <tbody>\n",
       "    <tr>\n",
       "      <th>183</th>\n",
       "      <td>put</td>\n",
       "      <td>2023-04-14</td>\n",
       "      <td>103.0</td>\n",
       "      <td>1.10</td>\n",
       "      <td>1.08</td>\n",
       "      <td>1.09</td>\n",
       "      <td>908</td>\n",
       "      <td>596</td>\n",
       "      <td>1.08</td>\n",
       "      <td>105.08</td>\n",
       "      <td>0.010</td>\n",
       "    </tr>\n",
       "    <tr>\n",
       "      <th>185</th>\n",
       "      <td>put</td>\n",
       "      <td>2023-04-14</td>\n",
       "      <td>104.0</td>\n",
       "      <td>1.41</td>\n",
       "      <td>1.41</td>\n",
       "      <td>1.42</td>\n",
       "      <td>1659</td>\n",
       "      <td>857</td>\n",
       "      <td>1.42</td>\n",
       "      <td>105.08</td>\n",
       "      <td>0.014</td>\n",
       "    </tr>\n",
       "    <tr>\n",
       "      <th>187</th>\n",
       "      <td>put</td>\n",
       "      <td>2023-04-14</td>\n",
       "      <td>105.0</td>\n",
       "      <td>1.81</td>\n",
       "      <td>1.81</td>\n",
       "      <td>1.82</td>\n",
       "      <td>759</td>\n",
       "      <td>887</td>\n",
       "      <td>1.82</td>\n",
       "      <td>105.08</td>\n",
       "      <td>0.017</td>\n",
       "    </tr>\n",
       "  </tbody>\n",
       "</table>\n",
       "</div>"
      ],
      "text/plain": [
       "    optionType  expiration  strike  lastPrice   bid   ask  openInterest  \\\n",
       "183        put  2023-04-14   103.0       1.10  1.08  1.09           908   \n",
       "185        put  2023-04-14   104.0       1.41  1.41  1.42          1659   \n",
       "187        put  2023-04-14   105.0       1.81  1.81  1.82           759   \n",
       "\n",
       "     volume  optionPrice  spotPrice  optionPercent  \n",
       "183     596         1.08     105.08          0.010  \n",
       "185     857         1.42     105.08          0.014  \n",
       "187     887         1.82     105.08          0.017  "
      ]
     },
     "execution_count": 53,
     "metadata": {},
     "output_type": "execute_result"
    }
   ],
   "source": [
    "# looking for 1% options, but returning those greater than 0.8%\n",
    "one_percent_puts = bidded_puts_df[(bidded_puts_df[\"optionPercent\"] > .008)]\n",
    "one_percent_puts"
   ]
  }
 ],
 "metadata": {
  "kernelspec": {
   "display_name": "Python 3 (ipykernel)",
   "language": "python",
   "name": "python3"
  },
  "language_info": {
   "codemirror_mode": {
    "name": "ipython",
    "version": 3
   },
   "file_extension": ".py",
   "mimetype": "text/x-python",
   "name": "python",
   "nbconvert_exporter": "python",
   "pygments_lexer": "ipython3",
   "version": "3.9.13"
  }
 },
 "nbformat": 4,
 "nbformat_minor": 5
}
